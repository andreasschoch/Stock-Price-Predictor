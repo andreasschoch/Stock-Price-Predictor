{
 "cells": [
  {
   "cell_type": "code",
   "execution_count": 68,
   "metadata": {
    "ExecuteTime": {
     "end_time": "2020-08-22T19:18:41.649676Z",
     "start_time": "2020-08-22T19:18:41.402018Z"
    }
   },
   "outputs": [],
   "source": [
    "# Import packages\n",
    "import os\n",
    "import sys\n",
    "import datetime\n",
    "import numpy as np\n",
    "import pandas as pd\n",
    "import yfinance as yf\n",
    "\n",
    "import matplotlib.pyplot as plt\n",
    "%matplotlib inline"
   ]
  },
  {
   "cell_type": "markdown",
   "metadata": {},
   "source": [
    "# Data Exploration"
   ]
  },
  {
   "cell_type": "code",
   "execution_count": 69,
   "metadata": {
    "ExecuteTime": {
     "end_time": "2020-08-22T19:18:41.653730Z",
     "start_time": "2020-08-22T19:18:41.650647Z"
    }
   },
   "outputs": [
    {
     "data": {
      "text/plain": [
       "(datetime.date(2018, 1, 1), datetime.date(2020, 11, 17))"
      ]
     },
     "execution_count": 69,
     "metadata": {},
     "output_type": "execute_result"
    }
   ],
   "source": [
    "# Set date timestamps for historical data download\n",
    "start_date = datetime.datetime(2018, 1, 1).date()\n",
    "end_date = datetime.datetime.now().date()\n",
    "start_date, end_date"
   ]
  },
  {
   "cell_type": "code",
   "execution_count": 70,
   "metadata": {
    "ExecuteTime": {
     "end_time": "2020-08-22T19:18:41.660918Z",
     "start_time": "2020-08-22T19:18:41.654593Z"
    }
   },
   "outputs": [
    {
     "data": {
      "text/plain": [
       "datetime.timedelta(days=1051)"
      ]
     },
     "execution_count": 70,
     "metadata": {},
     "output_type": "execute_result"
    }
   ],
   "source": [
    "end_date - start_date"
   ]
  },
  {
   "cell_type": "code",
   "execution_count": 71,
   "metadata": {
    "ExecuteTime": {
     "end_time": "2020-08-22T19:18:41.665451Z",
     "start_time": "2020-08-22T19:18:41.661982Z"
    }
   },
   "outputs": [],
   "source": [
    "ticker = \"SAP\"\n",
    "# ticker = \"GOOGL\"\n",
    "# ticker = \"MSFT\"\n",
    "# ticker = \"FB\""
   ]
  },
  {
   "cell_type": "code",
   "execution_count": 72,
   "metadata": {
    "ExecuteTime": {
     "end_time": "2020-08-22T19:18:41.674915Z",
     "start_time": "2020-08-22T19:18:41.666192Z"
    }
   },
   "outputs": [
    {
     "data": {
      "text/plain": [
       "yfinance.Ticker object <SAP>"
      ]
     },
     "execution_count": 72,
     "metadata": {},
     "output_type": "execute_result"
    }
   ],
   "source": [
    "msft = yf.Ticker(ticker)\n",
    "\n",
    "msft"
   ]
  },
  {
   "cell_type": "code",
   "execution_count": 73,
   "metadata": {
    "ExecuteTime": {
     "end_time": "2020-08-22T19:18:43.400518Z",
     "start_time": "2020-08-22T19:18:41.675933Z"
    },
    "scrolled": true
   },
   "outputs": [
    {
     "data": {
      "text/plain": [
       "{'zip': '69190',\n",
       " 'sector': 'Technology',\n",
       " 'fullTimeEmployees': 101450,\n",
       " 'longBusinessSummary': 'SAP SE operates as an enterprise application software, and analytics and business intelligence company worldwide. The company operates through three segments: Applications, Technology & Services; SAP Business Network; and Customer Experience. It offers SAP HANA, which enables businesses to process and analyze live data; SAP Data Hub, a solution for businesses to manage data from various sources; and SAP Cloud platform that offers an enterprise platform-as-a-service. The company also provides SAP Leonardo, a system that combines design thinking services with intelligent technologies for business processes; SAP Analytics Cloud, which leverages the intersection of business intelligence, planning, and predictive analytics; SAP BW/4HANA, a data warehouse solution; SAP S/4HANA, an enterprise resource planning suite for intelligent enterprises; SAP Integrated Business Planning solutions that deliver real-time supply chain planning capabilities; and SAP Business One, an on-premise and cloud business application. In addition, it offers SAP Fiori, an user experience interface; SAP SuccessFactors Human Capital Management solutions that help organizations enhance the value of their workforce; SAP Fieldglass, a cloud-based application for external workforce management and services procurement; SAP Ariba, an online business-to-business marketplace; and SAP Concur, a travel and expense management software. Further, the company provides SAP MaxAttention to turn ideas into value-based predictable outcomes; and SAP ActiveAttention program, a premium-level engagement solution to support smaller businesses. Additionally, it offers SAP Enterprise Support services that provides proactive, predictive, and preventive support for customers across hybrid landscapes; and SAP Preferred Success, which provides a bundle of prescriptive customer success activities for accelerated cloud adoption. SAP SE was founded in 1972 and is headquartered in Walldorf, Germany.',\n",
       " 'city': 'Walldorf',\n",
       " 'phone': '49 6227 7 47474',\n",
       " 'country': 'Germany',\n",
       " 'companyOfficers': [],\n",
       " 'website': 'http://www.sap.com',\n",
       " 'maxAge': 1,\n",
       " 'address1': 'Dietmar-Hopp-Allee 16',\n",
       " 'fax': '49 6227 7 57575',\n",
       " 'industry': 'Software—Application',\n",
       " 'previousClose': 118.95,\n",
       " 'regularMarketOpen': 117.45,\n",
       " 'twoHundredDayAverage': 143.34691,\n",
       " 'trailingAnnualDividendYield': 0.013711644,\n",
       " 'payoutRatio': 0.3818,\n",
       " 'volume24Hr': None,\n",
       " 'regularMarketDayHigh': 117.6516,\n",
       " 'navPrice': None,\n",
       " 'averageDailyVolume10Day': 1781000,\n",
       " 'totalAssets': None,\n",
       " 'regularMarketPreviousClose': 118.95,\n",
       " 'fiftyDayAverage': 136.37416,\n",
       " 'trailingAnnualDividendRate': 1.631,\n",
       " 'open': 117.45,\n",
       " 'toCurrency': None,\n",
       " 'averageVolume10days': 1781000,\n",
       " 'expireDate': None,\n",
       " 'yield': None,\n",
       " 'algorithm': None,\n",
       " 'dividendRate': 1.73,\n",
       " 'exDividendDate': 1590019200,\n",
       " 'beta': 0.965189,\n",
       " 'circulatingSupply': None,\n",
       " 'startDate': None,\n",
       " 'regularMarketDayLow': 116.43,\n",
       " 'priceHint': 2,\n",
       " 'currency': 'USD',\n",
       " 'trailingPE': 28.301523,\n",
       " 'regularMarketVolume': 898931,\n",
       " 'lastMarket': None,\n",
       " 'maxSupply': None,\n",
       " 'openInterest': None,\n",
       " 'marketCap': 139621515264,\n",
       " 'volumeAllCurrencies': None,\n",
       " 'strikePrice': None,\n",
       " 'averageVolume': 1174098,\n",
       " 'priceToSalesTrailing12Months': None,\n",
       " 'dayLow': 116.43,\n",
       " 'ask': 117.28,\n",
       " 'ytdReturn': None,\n",
       " 'askSize': 900,\n",
       " 'volume': 898931,\n",
       " 'fiftyTwoWeekHigh': 169.3,\n",
       " 'forwardPE': 20.407667,\n",
       " 'fromCurrency': None,\n",
       " 'fiveYearAvgDividendYield': 1.4,\n",
       " 'fiftyTwoWeekLow': 90.9,\n",
       " 'bid': 117.25,\n",
       " 'tradeable': False,\n",
       " 'dividendYield': 0.0146,\n",
       " 'bidSize': 1800,\n",
       " 'dayHigh': 117.6516,\n",
       " 'exchange': 'NYQ',\n",
       " 'shortName': 'SAP  SE',\n",
       " 'longName': 'SAP SE',\n",
       " 'exchangeTimezoneName': 'America/New_York',\n",
       " 'exchangeTimezoneShortName': 'EST',\n",
       " 'isEsgPopulated': False,\n",
       " 'gmtOffSetMilliseconds': '-18000000',\n",
       " 'quoteType': 'EQUITY',\n",
       " 'symbol': 'SAP',\n",
       " 'messageBoardId': 'finmb_126475',\n",
       " 'market': 'us_market',\n",
       " 'annualHoldingsTurnover': None,\n",
       " 'enterpriseToRevenue': None,\n",
       " 'beta3Year': None,\n",
       " 'profitMargins': 0.17446,\n",
       " 'enterpriseToEbitda': None,\n",
       " '52WeekChange': -0.12369239,\n",
       " 'morningStarRiskRating': None,\n",
       " 'forwardEps': 5.74,\n",
       " 'revenueQuarterlyGrowth': None,\n",
       " 'sharesOutstanding': 1193650048,\n",
       " 'fundInceptionDate': None,\n",
       " 'annualReportExpenseRatio': None,\n",
       " 'bookValue': 26.308,\n",
       " 'sharesShort': 2964306,\n",
       " 'sharesPercentSharesOut': 0.0025,\n",
       " 'fundFamily': None,\n",
       " 'lastFiscalYearEnd': 1577750400,\n",
       " 'heldPercentInstitutions': 0.04744,\n",
       " 'netIncomeToCommon': None,\n",
       " 'trailingEps': 4.139,\n",
       " 'lastDividendValue': 1.712,\n",
       " 'SandP52WeekChange': 0.16240406,\n",
       " 'priceToBook': 4.4526377,\n",
       " 'heldPercentInsiders': 0,\n",
       " 'nextFiscalYearEnd': 1640908800,\n",
       " 'mostRecentQuarter': 1601424000,\n",
       " 'shortRatio': 1.75,\n",
       " 'sharesShortPreviousMonthDate': 1601424000,\n",
       " 'floatShares': 1082154400,\n",
       " 'enterpriseValue': 140361007104,\n",
       " 'threeYearAverageReturn': None,\n",
       " 'lastSplitDate': 901584000,\n",
       " 'lastSplitFactor': '4:1',\n",
       " 'legalType': None,\n",
       " 'lastDividendDate': 1590019200,\n",
       " 'morningStarOverallRating': None,\n",
       " 'earningsQuarterlyGrowth': 0.249,\n",
       " 'dateShortInterest': 1604016000,\n",
       " 'pegRatio': 3.27,\n",
       " 'lastCapGain': None,\n",
       " 'shortPercentOfFloat': None,\n",
       " 'sharesShortPriorMonth': 2690005,\n",
       " 'category': None,\n",
       " 'fiveYearAverageReturn': None,\n",
       " 'regularMarketPrice': 117.45,\n",
       " 'logo_url': 'https://logo.clearbit.com/sap.com'}"
      ]
     },
     "execution_count": 73,
     "metadata": {},
     "output_type": "execute_result"
    }
   ],
   "source": [
    "msft.info"
   ]
  },
  {
   "cell_type": "code",
   "execution_count": 74,
   "metadata": {
    "ExecuteTime": {
     "end_time": "2020-08-22T19:18:43.725174Z",
     "start_time": "2020-08-22T19:18:43.401993Z"
    }
   },
   "outputs": [
    {
     "data": {
      "text/plain": [
       "(725, 8)"
      ]
     },
     "execution_count": 74,
     "metadata": {},
     "output_type": "execute_result"
    }
   ],
   "source": [
    "historical_data = msft.history(start=start_date, end=end_date, interval=\"1d\").reset_index()\n",
    "\n",
    "historical_data.shape"
   ]
  },
  {
   "cell_type": "code",
   "execution_count": 75,
   "metadata": {
    "ExecuteTime": {
     "end_time": "2020-08-22T19:18:43.733900Z",
     "start_time": "2020-08-22T19:18:43.726741Z"
    }
   },
   "outputs": [
    {
     "data": {
      "text/html": [
       "<div>\n",
       "<style scoped>\n",
       "    .dataframe tbody tr th:only-of-type {\n",
       "        vertical-align: middle;\n",
       "    }\n",
       "\n",
       "    .dataframe tbody tr th {\n",
       "        vertical-align: top;\n",
       "    }\n",
       "\n",
       "    .dataframe thead th {\n",
       "        text-align: right;\n",
       "    }\n",
       "</style>\n",
       "<table border=\"1\" class=\"dataframe\">\n",
       "  <thead>\n",
       "    <tr style=\"text-align: right;\">\n",
       "      <th></th>\n",
       "      <th>Date</th>\n",
       "      <th>Open</th>\n",
       "      <th>High</th>\n",
       "      <th>Low</th>\n",
       "      <th>Close</th>\n",
       "      <th>Volume</th>\n",
       "      <th>Dividends</th>\n",
       "      <th>Stock Splits</th>\n",
       "    </tr>\n",
       "  </thead>\n",
       "  <tbody>\n",
       "    <tr>\n",
       "      <th>0</th>\n",
       "      <td>2018-01-02</td>\n",
       "      <td>106.54</td>\n",
       "      <td>107.68</td>\n",
       "      <td>106.45</td>\n",
       "      <td>107.65</td>\n",
       "      <td>540600</td>\n",
       "      <td>0.0</td>\n",
       "      <td>0</td>\n",
       "    </tr>\n",
       "    <tr>\n",
       "      <th>1</th>\n",
       "      <td>2018-01-03</td>\n",
       "      <td>107.88</td>\n",
       "      <td>108.90</td>\n",
       "      <td>107.81</td>\n",
       "      <td>108.53</td>\n",
       "      <td>506200</td>\n",
       "      <td>0.0</td>\n",
       "      <td>0</td>\n",
       "    </tr>\n",
       "    <tr>\n",
       "      <th>2</th>\n",
       "      <td>2018-01-04</td>\n",
       "      <td>109.94</td>\n",
       "      <td>110.44</td>\n",
       "      <td>109.87</td>\n",
       "      <td>110.20</td>\n",
       "      <td>539300</td>\n",
       "      <td>0.0</td>\n",
       "      <td>0</td>\n",
       "    </tr>\n",
       "    <tr>\n",
       "      <th>3</th>\n",
       "      <td>2018-01-05</td>\n",
       "      <td>110.58</td>\n",
       "      <td>111.59</td>\n",
       "      <td>110.50</td>\n",
       "      <td>111.43</td>\n",
       "      <td>475300</td>\n",
       "      <td>0.0</td>\n",
       "      <td>0</td>\n",
       "    </tr>\n",
       "    <tr>\n",
       "      <th>4</th>\n",
       "      <td>2018-01-08</td>\n",
       "      <td>110.24</td>\n",
       "      <td>110.56</td>\n",
       "      <td>109.92</td>\n",
       "      <td>109.96</td>\n",
       "      <td>515400</td>\n",
       "      <td>0.0</td>\n",
       "      <td>0</td>\n",
       "    </tr>\n",
       "  </tbody>\n",
       "</table>\n",
       "</div>"
      ],
      "text/plain": [
       "        Date    Open    High     Low   Close  Volume  Dividends  Stock Splits\n",
       "0 2018-01-02  106.54  107.68  106.45  107.65  540600        0.0             0\n",
       "1 2018-01-03  107.88  108.90  107.81  108.53  506200        0.0             0\n",
       "2 2018-01-04  109.94  110.44  109.87  110.20  539300        0.0             0\n",
       "3 2018-01-05  110.58  111.59  110.50  111.43  475300        0.0             0\n",
       "4 2018-01-08  110.24  110.56  109.92  109.96  515400        0.0             0"
      ]
     },
     "execution_count": 75,
     "metadata": {},
     "output_type": "execute_result"
    }
   ],
   "source": [
    "historical_data.head()"
   ]
  },
  {
   "cell_type": "markdown",
   "metadata": {},
   "source": [
    "The above data shows stock prices on per day basis.\n",
    "\n",
    "+ High: Max stock price on that particular day\n",
    "+ Low: Lowest price went on that particular day\n",
    "+ Open: Stock price opening on that particular day\n",
    "+ Close: Final closing price of the stock on that particular day\n",
    "+ Volume: Amount of stock traded on that day\n",
    "+ Dividends: Dividens given (if any)\n",
    "+ Stock Splits: Stock split happend on that particular day (if any)"
   ]
  },
  {
   "cell_type": "code",
   "execution_count": 76,
   "metadata": {
    "ExecuteTime": {
     "end_time": "2020-08-22T19:18:43.760399Z",
     "start_time": "2020-08-22T19:18:43.735196Z"
    }
   },
   "outputs": [
    {
     "data": {
      "text/html": [
       "<div>\n",
       "<style scoped>\n",
       "    .dataframe tbody tr th:only-of-type {\n",
       "        vertical-align: middle;\n",
       "    }\n",
       "\n",
       "    .dataframe tbody tr th {\n",
       "        vertical-align: top;\n",
       "    }\n",
       "\n",
       "    .dataframe thead th {\n",
       "        text-align: right;\n",
       "    }\n",
       "</style>\n",
       "<table border=\"1\" class=\"dataframe\">\n",
       "  <thead>\n",
       "    <tr style=\"text-align: right;\">\n",
       "      <th></th>\n",
       "      <th>Open</th>\n",
       "      <th>High</th>\n",
       "      <th>Low</th>\n",
       "      <th>Close</th>\n",
       "      <th>Volume</th>\n",
       "      <th>Dividends</th>\n",
       "      <th>Stock Splits</th>\n",
       "    </tr>\n",
       "  </thead>\n",
       "  <tbody>\n",
       "    <tr>\n",
       "      <th>count</th>\n",
       "      <td>725.000000</td>\n",
       "      <td>725.000000</td>\n",
       "      <td>725.000000</td>\n",
       "      <td>725.000000</td>\n",
       "      <td>7.250000e+02</td>\n",
       "      <td>725.000000</td>\n",
       "      <td>725.0</td>\n",
       "    </tr>\n",
       "    <tr>\n",
       "      <th>mean</th>\n",
       "      <td>120.264510</td>\n",
       "      <td>121.104041</td>\n",
       "      <td>119.331572</td>\n",
       "      <td>120.247145</td>\n",
       "      <td>8.832869e+05</td>\n",
       "      <td>0.007083</td>\n",
       "      <td>0.0</td>\n",
       "    </tr>\n",
       "    <tr>\n",
       "      <th>std</th>\n",
       "      <td>17.523091</td>\n",
       "      <td>17.579566</td>\n",
       "      <td>17.401185</td>\n",
       "      <td>17.499956</td>\n",
       "      <td>7.501282e+05</td>\n",
       "      <td>0.109957</td>\n",
       "      <td>0.0</td>\n",
       "    </tr>\n",
       "    <tr>\n",
       "      <th>min</th>\n",
       "      <td>91.180000</td>\n",
       "      <td>94.170000</td>\n",
       "      <td>89.610000</td>\n",
       "      <td>92.390000</td>\n",
       "      <td>1.179000e+05</td>\n",
       "      <td>0.000000</td>\n",
       "      <td>0.0</td>\n",
       "    </tr>\n",
       "    <tr>\n",
       "      <th>25%</th>\n",
       "      <td>107.260000</td>\n",
       "      <td>107.990000</td>\n",
       "      <td>106.060000</td>\n",
       "      <td>106.960000</td>\n",
       "      <td>4.928000e+05</td>\n",
       "      <td>0.000000</td>\n",
       "      <td>0.0</td>\n",
       "    </tr>\n",
       "    <tr>\n",
       "      <th>50%</th>\n",
       "      <td>116.440000</td>\n",
       "      <td>117.250000</td>\n",
       "      <td>115.650000</td>\n",
       "      <td>116.190000</td>\n",
       "      <td>7.056000e+05</td>\n",
       "      <td>0.000000</td>\n",
       "      <td>0.0</td>\n",
       "    </tr>\n",
       "    <tr>\n",
       "      <th>75%</th>\n",
       "      <td>131.670000</td>\n",
       "      <td>132.420000</td>\n",
       "      <td>131.080000</td>\n",
       "      <td>131.700000</td>\n",
       "      <td>9.965000e+05</td>\n",
       "      <td>0.000000</td>\n",
       "      <td>0.0</td>\n",
       "    </tr>\n",
       "    <tr>\n",
       "      <th>max</th>\n",
       "      <td>168.090000</td>\n",
       "      <td>169.300000</td>\n",
       "      <td>166.290000</td>\n",
       "      <td>169.020000</td>\n",
       "      <td>1.129020e+07</td>\n",
       "      <td>1.727000</td>\n",
       "      <td>0.0</td>\n",
       "    </tr>\n",
       "  </tbody>\n",
       "</table>\n",
       "</div>"
      ],
      "text/plain": [
       "             Open        High         Low       Close        Volume  \\\n",
       "count  725.000000  725.000000  725.000000  725.000000  7.250000e+02   \n",
       "mean   120.264510  121.104041  119.331572  120.247145  8.832869e+05   \n",
       "std     17.523091   17.579566   17.401185   17.499956  7.501282e+05   \n",
       "min     91.180000   94.170000   89.610000   92.390000  1.179000e+05   \n",
       "25%    107.260000  107.990000  106.060000  106.960000  4.928000e+05   \n",
       "50%    116.440000  117.250000  115.650000  116.190000  7.056000e+05   \n",
       "75%    131.670000  132.420000  131.080000  131.700000  9.965000e+05   \n",
       "max    168.090000  169.300000  166.290000  169.020000  1.129020e+07   \n",
       "\n",
       "        Dividends  Stock Splits  \n",
       "count  725.000000         725.0  \n",
       "mean     0.007083           0.0  \n",
       "std      0.109957           0.0  \n",
       "min      0.000000           0.0  \n",
       "25%      0.000000           0.0  \n",
       "50%      0.000000           0.0  \n",
       "75%      0.000000           0.0  \n",
       "max      1.727000           0.0  "
      ]
     },
     "execution_count": 76,
     "metadata": {},
     "output_type": "execute_result"
    }
   ],
   "source": [
    "historical_data.describe()"
   ]
  },
  {
   "cell_type": "code",
   "execution_count": 77,
   "metadata": {
    "ExecuteTime": {
     "end_time": "2020-08-22T19:18:43.862681Z",
     "start_time": "2020-08-22T19:18:43.761396Z"
    }
   },
   "outputs": [
    {
     "data": {
      "text/plain": [
       "<matplotlib.legend.Legend at 0x1a2323e890>"
      ]
     },
     "execution_count": 77,
     "metadata": {},
     "output_type": "execute_result"
    },
    {
     "data": {
      "image/png": "[encoded data removed]",
      "text/plain": [
       "<Figure size 432x288 with 1 Axes>"
      ]
     },
     "metadata": {
      "needs_background": "light"
     },
     "output_type": "display_data"
    }
   ],
   "source": [
    "fig = plt.figure()\n",
    "\n",
    "plt.plot(historical_data.Close)\n",
    "\n",
    "plt.legend([\"Close\", \"Open\"])"
   ]
  },
  {
   "cell_type": "markdown",
   "metadata": {},
   "source": [
    "# Feature Engineering"
   ]
  },
  {
   "cell_type": "code",
   "execution_count": 78,
   "metadata": {
    "ExecuteTime": {
     "end_time": "2020-08-22T19:18:43.870180Z",
     "start_time": "2020-08-22T19:18:43.863644Z"
    }
   },
   "outputs": [
    {
     "data": {
      "text/html": [
       "<div>\n",
       "<style scoped>\n",
       "    .dataframe tbody tr th:only-of-type {\n",
       "        vertical-align: middle;\n",
       "    }\n",
       "\n",
       "    .dataframe tbody tr th {\n",
       "        vertical-align: top;\n",
       "    }\n",
       "\n",
       "    .dataframe thead th {\n",
       "        text-align: right;\n",
       "    }\n",
       "</style>\n",
       "<table border=\"1\" class=\"dataframe\">\n",
       "  <thead>\n",
       "    <tr style=\"text-align: right;\">\n",
       "      <th></th>\n",
       "      <th>Date</th>\n",
       "      <th>Open</th>\n",
       "      <th>High</th>\n",
       "      <th>Low</th>\n",
       "      <th>Close</th>\n",
       "      <th>Volume</th>\n",
       "      <th>Dividends</th>\n",
       "      <th>Stock Splits</th>\n",
       "    </tr>\n",
       "  </thead>\n",
       "  <tbody>\n",
       "    <tr>\n",
       "      <th>0</th>\n",
       "      <td>2018-01-02</td>\n",
       "      <td>106.54</td>\n",
       "      <td>107.68</td>\n",
       "      <td>106.45</td>\n",
       "      <td>107.65</td>\n",
       "      <td>540600</td>\n",
       "      <td>0.0</td>\n",
       "      <td>0</td>\n",
       "    </tr>\n",
       "    <tr>\n",
       "      <th>1</th>\n",
       "      <td>2018-01-03</td>\n",
       "      <td>107.88</td>\n",
       "      <td>108.90</td>\n",
       "      <td>107.81</td>\n",
       "      <td>108.53</td>\n",
       "      <td>506200</td>\n",
       "      <td>0.0</td>\n",
       "      <td>0</td>\n",
       "    </tr>\n",
       "    <tr>\n",
       "      <th>2</th>\n",
       "      <td>2018-01-04</td>\n",
       "      <td>109.94</td>\n",
       "      <td>110.44</td>\n",
       "      <td>109.87</td>\n",
       "      <td>110.20</td>\n",
       "      <td>539300</td>\n",
       "      <td>0.0</td>\n",
       "      <td>0</td>\n",
       "    </tr>\n",
       "    <tr>\n",
       "      <th>3</th>\n",
       "      <td>2018-01-05</td>\n",
       "      <td>110.58</td>\n",
       "      <td>111.59</td>\n",
       "      <td>110.50</td>\n",
       "      <td>111.43</td>\n",
       "      <td>475300</td>\n",
       "      <td>0.0</td>\n",
       "      <td>0</td>\n",
       "    </tr>\n",
       "    <tr>\n",
       "      <th>4</th>\n",
       "      <td>2018-01-08</td>\n",
       "      <td>110.24</td>\n",
       "      <td>110.56</td>\n",
       "      <td>109.92</td>\n",
       "      <td>109.96</td>\n",
       "      <td>515400</td>\n",
       "      <td>0.0</td>\n",
       "      <td>0</td>\n",
       "    </tr>\n",
       "  </tbody>\n",
       "</table>\n",
       "</div>"
      ],
      "text/plain": [
       "        Date    Open    High     Low   Close  Volume  Dividends  Stock Splits\n",
       "0 2018-01-02  106.54  107.68  106.45  107.65  540600        0.0             0\n",
       "1 2018-01-03  107.88  108.90  107.81  108.53  506200        0.0             0\n",
       "2 2018-01-04  109.94  110.44  109.87  110.20  539300        0.0             0\n",
       "3 2018-01-05  110.58  111.59  110.50  111.43  475300        0.0             0\n",
       "4 2018-01-08  110.24  110.56  109.92  109.96  515400        0.0             0"
      ]
     },
     "execution_count": 78,
     "metadata": {},
     "output_type": "execute_result"
    }
   ],
   "source": [
    "historical_data.head()"
   ]
  },
  {
   "cell_type": "code",
   "execution_count": 79,
   "metadata": {
    "ExecuteTime": {
     "end_time": "2020-08-22T19:18:43.900222Z",
     "start_time": "2020-08-22T19:18:43.871042Z"
    }
   },
   "outputs": [
    {
     "data": {
      "text/html": [
       "<div>\n",
       "<style scoped>\n",
       "    .dataframe tbody tr th:only-of-type {\n",
       "        vertical-align: middle;\n",
       "    }\n",
       "\n",
       "    .dataframe tbody tr th {\n",
       "        vertical-align: top;\n",
       "    }\n",
       "\n",
       "    .dataframe thead th {\n",
       "        text-align: right;\n",
       "    }\n",
       "</style>\n",
       "<table border=\"1\" class=\"dataframe\">\n",
       "  <thead>\n",
       "    <tr style=\"text-align: right;\">\n",
       "      <th></th>\n",
       "      <th>Date</th>\n",
       "      <th>Open</th>\n",
       "      <th>High</th>\n",
       "      <th>Low</th>\n",
       "      <th>Close</th>\n",
       "      <th>Volume</th>\n",
       "      <th>Dividends</th>\n",
       "      <th>Stock Splits</th>\n",
       "      <th>Close_lag_1</th>\n",
       "      <th>Open_lag_1</th>\n",
       "      <th>...</th>\n",
       "      <th>High_lag_4</th>\n",
       "      <th>Low_lag_4</th>\n",
       "      <th>Close_lag_5</th>\n",
       "      <th>Open_lag_5</th>\n",
       "      <th>High_lag_5</th>\n",
       "      <th>Low_lag_5</th>\n",
       "      <th>Close_lag_6</th>\n",
       "      <th>Open_lag_6</th>\n",
       "      <th>High_lag_6</th>\n",
       "      <th>Low_lag_6</th>\n",
       "    </tr>\n",
       "  </thead>\n",
       "  <tbody>\n",
       "    <tr>\n",
       "      <th>0</th>\n",
       "      <td>2018-01-02</td>\n",
       "      <td>106.54</td>\n",
       "      <td>107.68</td>\n",
       "      <td>106.45</td>\n",
       "      <td>107.65</td>\n",
       "      <td>540600</td>\n",
       "      <td>0.0</td>\n",
       "      <td>0</td>\n",
       "      <td>NaN</td>\n",
       "      <td>NaN</td>\n",
       "      <td>...</td>\n",
       "      <td>NaN</td>\n",
       "      <td>NaN</td>\n",
       "      <td>NaN</td>\n",
       "      <td>NaN</td>\n",
       "      <td>NaN</td>\n",
       "      <td>NaN</td>\n",
       "      <td>NaN</td>\n",
       "      <td>NaN</td>\n",
       "      <td>NaN</td>\n",
       "      <td>NaN</td>\n",
       "    </tr>\n",
       "    <tr>\n",
       "      <th>1</th>\n",
       "      <td>2018-01-03</td>\n",
       "      <td>107.88</td>\n",
       "      <td>108.90</td>\n",
       "      <td>107.81</td>\n",
       "      <td>108.53</td>\n",
       "      <td>506200</td>\n",
       "      <td>0.0</td>\n",
       "      <td>0</td>\n",
       "      <td>107.65</td>\n",
       "      <td>106.54</td>\n",
       "      <td>...</td>\n",
       "      <td>NaN</td>\n",
       "      <td>NaN</td>\n",
       "      <td>NaN</td>\n",
       "      <td>NaN</td>\n",
       "      <td>NaN</td>\n",
       "      <td>NaN</td>\n",
       "      <td>NaN</td>\n",
       "      <td>NaN</td>\n",
       "      <td>NaN</td>\n",
       "      <td>NaN</td>\n",
       "    </tr>\n",
       "    <tr>\n",
       "      <th>2</th>\n",
       "      <td>2018-01-04</td>\n",
       "      <td>109.94</td>\n",
       "      <td>110.44</td>\n",
       "      <td>109.87</td>\n",
       "      <td>110.20</td>\n",
       "      <td>539300</td>\n",
       "      <td>0.0</td>\n",
       "      <td>0</td>\n",
       "      <td>108.53</td>\n",
       "      <td>107.88</td>\n",
       "      <td>...</td>\n",
       "      <td>NaN</td>\n",
       "      <td>NaN</td>\n",
       "      <td>NaN</td>\n",
       "      <td>NaN</td>\n",
       "      <td>NaN</td>\n",
       "      <td>NaN</td>\n",
       "      <td>NaN</td>\n",
       "      <td>NaN</td>\n",
       "      <td>NaN</td>\n",
       "      <td>NaN</td>\n",
       "    </tr>\n",
       "    <tr>\n",
       "      <th>3</th>\n",
       "      <td>2018-01-05</td>\n",
       "      <td>110.58</td>\n",
       "      <td>111.59</td>\n",
       "      <td>110.50</td>\n",
       "      <td>111.43</td>\n",
       "      <td>475300</td>\n",
       "      <td>0.0</td>\n",
       "      <td>0</td>\n",
       "      <td>110.20</td>\n",
       "      <td>109.94</td>\n",
       "      <td>...</td>\n",
       "      <td>NaN</td>\n",
       "      <td>NaN</td>\n",
       "      <td>NaN</td>\n",
       "      <td>NaN</td>\n",
       "      <td>NaN</td>\n",
       "      <td>NaN</td>\n",
       "      <td>NaN</td>\n",
       "      <td>NaN</td>\n",
       "      <td>NaN</td>\n",
       "      <td>NaN</td>\n",
       "    </tr>\n",
       "    <tr>\n",
       "      <th>4</th>\n",
       "      <td>2018-01-08</td>\n",
       "      <td>110.24</td>\n",
       "      <td>110.56</td>\n",
       "      <td>109.92</td>\n",
       "      <td>109.96</td>\n",
       "      <td>515400</td>\n",
       "      <td>0.0</td>\n",
       "      <td>0</td>\n",
       "      <td>111.43</td>\n",
       "      <td>110.58</td>\n",
       "      <td>...</td>\n",
       "      <td>107.68</td>\n",
       "      <td>106.45</td>\n",
       "      <td>NaN</td>\n",
       "      <td>NaN</td>\n",
       "      <td>NaN</td>\n",
       "      <td>NaN</td>\n",
       "      <td>NaN</td>\n",
       "      <td>NaN</td>\n",
       "      <td>NaN</td>\n",
       "      <td>NaN</td>\n",
       "    </tr>\n",
       "  </tbody>\n",
       "</table>\n",
       "<p>5 rows × 32 columns</p>\n",
       "</div>"
      ],
      "text/plain": [
       "        Date    Open    High     Low   Close  Volume  Dividends  Stock Splits  \\\n",
       "0 2018-01-02  106.54  107.68  106.45  107.65  540600        0.0             0   \n",
       "1 2018-01-03  107.88  108.90  107.81  108.53  506200        0.0             0   \n",
       "2 2018-01-04  109.94  110.44  109.87  110.20  539300        0.0             0   \n",
       "3 2018-01-05  110.58  111.59  110.50  111.43  475300        0.0             0   \n",
       "4 2018-01-08  110.24  110.56  109.92  109.96  515400        0.0             0   \n",
       "\n",
       "   Close_lag_1  Open_lag_1  ...  High_lag_4  Low_lag_4  Close_lag_5  \\\n",
       "0          NaN         NaN  ...         NaN        NaN          NaN   \n",
       "1       107.65      106.54  ...         NaN        NaN          NaN   \n",
       "2       108.53      107.88  ...         NaN        NaN          NaN   \n",
       "3       110.20      109.94  ...         NaN        NaN          NaN   \n",
       "4       111.43      110.58  ...      107.68     106.45          NaN   \n",
       "\n",
       "   Open_lag_5  High_lag_5  Low_lag_5  Close_lag_6  Open_lag_6  High_lag_6  \\\n",
       "0         NaN         NaN        NaN          NaN         NaN         NaN   \n",
       "1         NaN         NaN        NaN          NaN         NaN         NaN   \n",
       "2         NaN         NaN        NaN          NaN         NaN         NaN   \n",
       "3         NaN         NaN        NaN          NaN         NaN         NaN   \n",
       "4         NaN         NaN        NaN          NaN         NaN         NaN   \n",
       "\n",
       "   Low_lag_6  \n",
       "0        NaN  \n",
       "1        NaN  \n",
       "2        NaN  \n",
       "3        NaN  \n",
       "4        NaN  \n",
       "\n",
       "[5 rows x 32 columns]"
      ]
     },
     "execution_count": 79,
     "metadata": {},
     "output_type": "execute_result"
    }
   ],
   "source": [
    "# Create lag features\n",
    "for i in range(1, 7):\n",
    "    historical_data[f\"Close_lag_{i}\"] = historical_data.Close.shift(periods=i, axis=0)\n",
    "    historical_data[f\"Open_lag_{i}\"] = historical_data.Open.shift(periods=i, axis=0)\n",
    "    historical_data[f\"High_lag_{i}\"] = historical_data.High.shift(periods=i, axis=0)\n",
    "    historical_data[f\"Low_lag_{i}\"] = historical_data.Low.shift(periods=i, axis=0)\n",
    "\n",
    "historical_data.head()"
   ]
  },
  {
   "cell_type": "code",
   "execution_count": 80,
   "metadata": {
    "ExecuteTime": {
     "end_time": "2020-08-22T19:18:43.915494Z",
     "start_time": "2020-08-22T19:18:43.901135Z"
    }
   },
   "outputs": [
    {
     "data": {
      "text/html": [
       "<div>\n",
       "<style scoped>\n",
       "    .dataframe tbody tr th:only-of-type {\n",
       "        vertical-align: middle;\n",
       "    }\n",
       "\n",
       "    .dataframe tbody tr th {\n",
       "        vertical-align: top;\n",
       "    }\n",
       "\n",
       "    .dataframe thead th {\n",
       "        text-align: right;\n",
       "    }\n",
       "</style>\n",
       "<table border=\"1\" class=\"dataframe\">\n",
       "  <thead>\n",
       "    <tr style=\"text-align: right;\">\n",
       "      <th></th>\n",
       "      <th>Date</th>\n",
       "      <th>Open</th>\n",
       "      <th>High</th>\n",
       "      <th>Low</th>\n",
       "      <th>Close</th>\n",
       "      <th>Volume</th>\n",
       "      <th>Dividends</th>\n",
       "      <th>Stock Splits</th>\n",
       "      <th>Close_lag_1</th>\n",
       "      <th>Open_lag_1</th>\n",
       "      <th>...</th>\n",
       "      <th>High_lag_4</th>\n",
       "      <th>Low_lag_4</th>\n",
       "      <th>Close_lag_5</th>\n",
       "      <th>Open_lag_5</th>\n",
       "      <th>High_lag_5</th>\n",
       "      <th>Low_lag_5</th>\n",
       "      <th>Close_lag_6</th>\n",
       "      <th>Open_lag_6</th>\n",
       "      <th>High_lag_6</th>\n",
       "      <th>Low_lag_6</th>\n",
       "    </tr>\n",
       "  </thead>\n",
       "  <tbody>\n",
       "    <tr>\n",
       "      <th>0</th>\n",
       "      <td>2018-01-02</td>\n",
       "      <td>106.54</td>\n",
       "      <td>107.68</td>\n",
       "      <td>106.45</td>\n",
       "      <td>107.65</td>\n",
       "      <td>540600</td>\n",
       "      <td>0.0</td>\n",
       "      <td>0</td>\n",
       "      <td>0.00</td>\n",
       "      <td>0.00</td>\n",
       "      <td>...</td>\n",
       "      <td>0.00</td>\n",
       "      <td>0.00</td>\n",
       "      <td>0.0</td>\n",
       "      <td>0.0</td>\n",
       "      <td>0.0</td>\n",
       "      <td>0.0</td>\n",
       "      <td>0.0</td>\n",
       "      <td>0.0</td>\n",
       "      <td>0.0</td>\n",
       "      <td>0.0</td>\n",
       "    </tr>\n",
       "    <tr>\n",
       "      <th>1</th>\n",
       "      <td>2018-01-03</td>\n",
       "      <td>107.88</td>\n",
       "      <td>108.90</td>\n",
       "      <td>107.81</td>\n",
       "      <td>108.53</td>\n",
       "      <td>506200</td>\n",
       "      <td>0.0</td>\n",
       "      <td>0</td>\n",
       "      <td>107.65</td>\n",
       "      <td>106.54</td>\n",
       "      <td>...</td>\n",
       "      <td>0.00</td>\n",
       "      <td>0.00</td>\n",
       "      <td>0.0</td>\n",
       "      <td>0.0</td>\n",
       "      <td>0.0</td>\n",
       "      <td>0.0</td>\n",
       "      <td>0.0</td>\n",
       "      <td>0.0</td>\n",
       "      <td>0.0</td>\n",
       "      <td>0.0</td>\n",
       "    </tr>\n",
       "    <tr>\n",
       "      <th>2</th>\n",
       "      <td>2018-01-04</td>\n",
       "      <td>109.94</td>\n",
       "      <td>110.44</td>\n",
       "      <td>109.87</td>\n",
       "      <td>110.20</td>\n",
       "      <td>539300</td>\n",
       "      <td>0.0</td>\n",
       "      <td>0</td>\n",
       "      <td>108.53</td>\n",
       "      <td>107.88</td>\n",
       "      <td>...</td>\n",
       "      <td>0.00</td>\n",
       "      <td>0.00</td>\n",
       "      <td>0.0</td>\n",
       "      <td>0.0</td>\n",
       "      <td>0.0</td>\n",
       "      <td>0.0</td>\n",
       "      <td>0.0</td>\n",
       "      <td>0.0</td>\n",
       "      <td>0.0</td>\n",
       "      <td>0.0</td>\n",
       "    </tr>\n",
       "    <tr>\n",
       "      <th>3</th>\n",
       "      <td>2018-01-05</td>\n",
       "      <td>110.58</td>\n",
       "      <td>111.59</td>\n",
       "      <td>110.50</td>\n",
       "      <td>111.43</td>\n",
       "      <td>475300</td>\n",
       "      <td>0.0</td>\n",
       "      <td>0</td>\n",
       "      <td>110.20</td>\n",
       "      <td>109.94</td>\n",
       "      <td>...</td>\n",
       "      <td>0.00</td>\n",
       "      <td>0.00</td>\n",
       "      <td>0.0</td>\n",
       "      <td>0.0</td>\n",
       "      <td>0.0</td>\n",
       "      <td>0.0</td>\n",
       "      <td>0.0</td>\n",
       "      <td>0.0</td>\n",
       "      <td>0.0</td>\n",
       "      <td>0.0</td>\n",
       "    </tr>\n",
       "    <tr>\n",
       "      <th>4</th>\n",
       "      <td>2018-01-08</td>\n",
       "      <td>110.24</td>\n",
       "      <td>110.56</td>\n",
       "      <td>109.92</td>\n",
       "      <td>109.96</td>\n",
       "      <td>515400</td>\n",
       "      <td>0.0</td>\n",
       "      <td>0</td>\n",
       "      <td>111.43</td>\n",
       "      <td>110.58</td>\n",
       "      <td>...</td>\n",
       "      <td>107.68</td>\n",
       "      <td>106.45</td>\n",
       "      <td>0.0</td>\n",
       "      <td>0.0</td>\n",
       "      <td>0.0</td>\n",
       "      <td>0.0</td>\n",
       "      <td>0.0</td>\n",
       "      <td>0.0</td>\n",
       "      <td>0.0</td>\n",
       "      <td>0.0</td>\n",
       "    </tr>\n",
       "  </tbody>\n",
       "</table>\n",
       "<p>5 rows × 32 columns</p>\n",
       "</div>"
      ],
      "text/plain": [
       "        Date    Open    High     Low   Close  Volume  Dividends  Stock Splits  \\\n",
       "0 2018-01-02  106.54  107.68  106.45  107.65  540600        0.0             0   \n",
       "1 2018-01-03  107.88  108.90  107.81  108.53  506200        0.0             0   \n",
       "2 2018-01-04  109.94  110.44  109.87  110.20  539300        0.0             0   \n",
       "3 2018-01-05  110.58  111.59  110.50  111.43  475300        0.0             0   \n",
       "4 2018-01-08  110.24  110.56  109.92  109.96  515400        0.0             0   \n",
       "\n",
       "   Close_lag_1  Open_lag_1  ...  High_lag_4  Low_lag_4  Close_lag_5  \\\n",
       "0         0.00        0.00  ...        0.00       0.00          0.0   \n",
       "1       107.65      106.54  ...        0.00       0.00          0.0   \n",
       "2       108.53      107.88  ...        0.00       0.00          0.0   \n",
       "3       110.20      109.94  ...        0.00       0.00          0.0   \n",
       "4       111.43      110.58  ...      107.68     106.45          0.0   \n",
       "\n",
       "   Open_lag_5  High_lag_5  Low_lag_5  Close_lag_6  Open_lag_6  High_lag_6  \\\n",
       "0         0.0         0.0        0.0          0.0         0.0         0.0   \n",
       "1         0.0         0.0        0.0          0.0         0.0         0.0   \n",
       "2         0.0         0.0        0.0          0.0         0.0         0.0   \n",
       "3         0.0         0.0        0.0          0.0         0.0         0.0   \n",
       "4         0.0         0.0        0.0          0.0         0.0         0.0   \n",
       "\n",
       "   Low_lag_6  \n",
       "0        0.0  \n",
       "1        0.0  \n",
       "2        0.0  \n",
       "3        0.0  \n",
       "4        0.0  \n",
       "\n",
       "[5 rows x 32 columns]"
      ]
     },
     "execution_count": 80,
     "metadata": {},
     "output_type": "execute_result"
    }
   ],
   "source": [
    "historical_data.fillna(0, inplace=True)\n",
    "historical_data.head()"
   ]
  },
  {
   "cell_type": "code",
   "execution_count": 81,
   "metadata": {
    "ExecuteTime": {
     "end_time": "2020-08-22T19:18:43.919277Z",
     "start_time": "2020-08-22T19:18:43.916431Z"
    }
   },
   "outputs": [],
   "source": [
    "historical_data.drop(\n",
    "    columns=[\"Dividends\", \"Stock Splits\", \"Volume\", \"Open\", \"High\", \"Low\"], inplace=True)"
   ]
  },
  {
   "cell_type": "code",
   "execution_count": 53,
   "metadata": {
    "ExecuteTime": {
     "end_time": "2020-08-22T19:18:43.923301Z",
     "start_time": "2020-08-22T19:18:43.920145Z"
    }
   },
   "outputs": [],
   "source": [
    "# # Create a holiday dataframe\n",
    "# min_date, max_date = historical_data.Date.min(), historical_data.Date.max()\n",
    "# print(\"Min/Max dates:\", min_date, max_date)\n",
    "\n",
    "# date_range = pd.date_range(start=min_date, end=max_date)\n",
    "# print(\"Date range:\", date_range.min(), date_range.max())\n",
    "\n",
    "# # Find dates not present in historical df - closed stock market holiday\n",
    "# holiday_date_range = [d.date() for d in date_range if d not in historical_data.Date]\n",
    "# holiday_date_range[:5]"
   ]
  },
  {
   "cell_type": "code",
   "execution_count": 54,
   "metadata": {
    "ExecuteTime": {
     "end_time": "2020-08-22T19:18:43.928182Z",
     "start_time": "2020-08-22T19:18:43.924111Z"
    }
   },
   "outputs": [],
   "source": [
    "# holidays = pd.DataFrame({\n",
    "#     \"holiday\": \"shutdown\",\n",
    "#     \"ds\": pd.to_datetime(holiday_date_range),\n",
    "#     \"lower_bound\": 0,\n",
    "#     \"upper_bound\": 1,\n",
    "# })\n",
    "\n",
    "# holidays.head()"
   ]
  },
  {
   "cell_type": "markdown",
   "metadata": {},
   "source": [
    "# Modelling"
   ]
  },
  {
   "cell_type": "markdown",
   "metadata": {},
   "source": [
    "## Facebook's Prophet: Single Timestep Forecasting\n",
    "\n",
    "References: \n",
    "+ https://facebook.github.io/prophet/"
   ]
  },
  {
   "cell_type": "code",
   "execution_count": 82,
   "metadata": {
    "ExecuteTime": {
     "end_time": "2020-08-22T19:18:44.043035Z",
     "start_time": "2020-08-22T19:18:43.929346Z"
    }
   },
   "outputs": [],
   "source": [
    "import fbprophet as prophet"
   ]
  },
  {
   "cell_type": "code",
   "execution_count": 83,
   "metadata": {
    "ExecuteTime": {
     "end_time": "2020-08-22T19:18:44.046863Z",
     "start_time": "2020-08-22T19:18:44.044035Z"
    }
   },
   "outputs": [
    {
     "data": {
      "text/plain": [
       "((695, 26), (30, 26))"
      ]
     },
     "execution_count": 83,
     "metadata": {},
     "output_type": "execute_result"
    }
   ],
   "source": [
    "validation_period = 30 # 30 days\n",
    "\n",
    "train, validation = historical_data.iloc[:-validation_period], historical_data.iloc[-validation_period:]\n",
    "\n",
    "train.shape, validation.shape"
   ]
  },
  {
   "cell_type": "code",
   "execution_count": 84,
   "metadata": {
    "ExecuteTime": {
     "end_time": "2020-08-22T19:18:44.070817Z",
     "start_time": "2020-08-22T19:18:44.047673Z"
    }
   },
   "outputs": [
    {
     "data": {
      "text/html": [
       "<div>\n",
       "<style scoped>\n",
       "    .dataframe tbody tr th:only-of-type {\n",
       "        vertical-align: middle;\n",
       "    }\n",
       "\n",
       "    .dataframe tbody tr th {\n",
       "        vertical-align: top;\n",
       "    }\n",
       "\n",
       "    .dataframe thead th {\n",
       "        text-align: right;\n",
       "    }\n",
       "</style>\n",
       "<table border=\"1\" class=\"dataframe\">\n",
       "  <thead>\n",
       "    <tr style=\"text-align: right;\">\n",
       "      <th></th>\n",
       "      <th>Date</th>\n",
       "      <th>Close</th>\n",
       "      <th>Close_lag_1</th>\n",
       "      <th>Open_lag_1</th>\n",
       "      <th>High_lag_1</th>\n",
       "      <th>Low_lag_1</th>\n",
       "      <th>Close_lag_2</th>\n",
       "      <th>Open_lag_2</th>\n",
       "      <th>High_lag_2</th>\n",
       "      <th>Low_lag_2</th>\n",
       "      <th>...</th>\n",
       "      <th>High_lag_4</th>\n",
       "      <th>Low_lag_4</th>\n",
       "      <th>Close_lag_5</th>\n",
       "      <th>Open_lag_5</th>\n",
       "      <th>High_lag_5</th>\n",
       "      <th>Low_lag_5</th>\n",
       "      <th>Close_lag_6</th>\n",
       "      <th>Open_lag_6</th>\n",
       "      <th>High_lag_6</th>\n",
       "      <th>Low_lag_6</th>\n",
       "    </tr>\n",
       "  </thead>\n",
       "  <tbody>\n",
       "    <tr>\n",
       "      <th>0</th>\n",
       "      <td>2018-01-02</td>\n",
       "      <td>107.65</td>\n",
       "      <td>0.00</td>\n",
       "      <td>0.00</td>\n",
       "      <td>0.00</td>\n",
       "      <td>0.00</td>\n",
       "      <td>0.00</td>\n",
       "      <td>0.00</td>\n",
       "      <td>0.00</td>\n",
       "      <td>0.00</td>\n",
       "      <td>...</td>\n",
       "      <td>0.00</td>\n",
       "      <td>0.00</td>\n",
       "      <td>0.0</td>\n",
       "      <td>0.0</td>\n",
       "      <td>0.0</td>\n",
       "      <td>0.0</td>\n",
       "      <td>0.0</td>\n",
       "      <td>0.0</td>\n",
       "      <td>0.0</td>\n",
       "      <td>0.0</td>\n",
       "    </tr>\n",
       "    <tr>\n",
       "      <th>1</th>\n",
       "      <td>2018-01-03</td>\n",
       "      <td>108.53</td>\n",
       "      <td>107.65</td>\n",
       "      <td>106.54</td>\n",
       "      <td>107.68</td>\n",
       "      <td>106.45</td>\n",
       "      <td>0.00</td>\n",
       "      <td>0.00</td>\n",
       "      <td>0.00</td>\n",
       "      <td>0.00</td>\n",
       "      <td>...</td>\n",
       "      <td>0.00</td>\n",
       "      <td>0.00</td>\n",
       "      <td>0.0</td>\n",
       "      <td>0.0</td>\n",
       "      <td>0.0</td>\n",
       "      <td>0.0</td>\n",
       "      <td>0.0</td>\n",
       "      <td>0.0</td>\n",
       "      <td>0.0</td>\n",
       "      <td>0.0</td>\n",
       "    </tr>\n",
       "    <tr>\n",
       "      <th>2</th>\n",
       "      <td>2018-01-04</td>\n",
       "      <td>110.20</td>\n",
       "      <td>108.53</td>\n",
       "      <td>107.88</td>\n",
       "      <td>108.90</td>\n",
       "      <td>107.81</td>\n",
       "      <td>107.65</td>\n",
       "      <td>106.54</td>\n",
       "      <td>107.68</td>\n",
       "      <td>106.45</td>\n",
       "      <td>...</td>\n",
       "      <td>0.00</td>\n",
       "      <td>0.00</td>\n",
       "      <td>0.0</td>\n",
       "      <td>0.0</td>\n",
       "      <td>0.0</td>\n",
       "      <td>0.0</td>\n",
       "      <td>0.0</td>\n",
       "      <td>0.0</td>\n",
       "      <td>0.0</td>\n",
       "      <td>0.0</td>\n",
       "    </tr>\n",
       "    <tr>\n",
       "      <th>3</th>\n",
       "      <td>2018-01-05</td>\n",
       "      <td>111.43</td>\n",
       "      <td>110.20</td>\n",
       "      <td>109.94</td>\n",
       "      <td>110.44</td>\n",
       "      <td>109.87</td>\n",
       "      <td>108.53</td>\n",
       "      <td>107.88</td>\n",
       "      <td>108.90</td>\n",
       "      <td>107.81</td>\n",
       "      <td>...</td>\n",
       "      <td>0.00</td>\n",
       "      <td>0.00</td>\n",
       "      <td>0.0</td>\n",
       "      <td>0.0</td>\n",
       "      <td>0.0</td>\n",
       "      <td>0.0</td>\n",
       "      <td>0.0</td>\n",
       "      <td>0.0</td>\n",
       "      <td>0.0</td>\n",
       "      <td>0.0</td>\n",
       "    </tr>\n",
       "    <tr>\n",
       "      <th>4</th>\n",
       "      <td>2018-01-08</td>\n",
       "      <td>109.96</td>\n",
       "      <td>111.43</td>\n",
       "      <td>110.58</td>\n",
       "      <td>111.59</td>\n",
       "      <td>110.50</td>\n",
       "      <td>110.20</td>\n",
       "      <td>109.94</td>\n",
       "      <td>110.44</td>\n",
       "      <td>109.87</td>\n",
       "      <td>...</td>\n",
       "      <td>107.68</td>\n",
       "      <td>106.45</td>\n",
       "      <td>0.0</td>\n",
       "      <td>0.0</td>\n",
       "      <td>0.0</td>\n",
       "      <td>0.0</td>\n",
       "      <td>0.0</td>\n",
       "      <td>0.0</td>\n",
       "      <td>0.0</td>\n",
       "      <td>0.0</td>\n",
       "    </tr>\n",
       "  </tbody>\n",
       "</table>\n",
       "<p>5 rows × 26 columns</p>\n",
       "</div>"
      ],
      "text/plain": [
       "        Date   Close  Close_lag_1  Open_lag_1  High_lag_1  Low_lag_1  \\\n",
       "0 2018-01-02  107.65         0.00        0.00        0.00       0.00   \n",
       "1 2018-01-03  108.53       107.65      106.54      107.68     106.45   \n",
       "2 2018-01-04  110.20       108.53      107.88      108.90     107.81   \n",
       "3 2018-01-05  111.43       110.20      109.94      110.44     109.87   \n",
       "4 2018-01-08  109.96       111.43      110.58      111.59     110.50   \n",
       "\n",
       "   Close_lag_2  Open_lag_2  High_lag_2  Low_lag_2  ...  High_lag_4  Low_lag_4  \\\n",
       "0         0.00        0.00        0.00       0.00  ...        0.00       0.00   \n",
       "1         0.00        0.00        0.00       0.00  ...        0.00       0.00   \n",
       "2       107.65      106.54      107.68     106.45  ...        0.00       0.00   \n",
       "3       108.53      107.88      108.90     107.81  ...        0.00       0.00   \n",
       "4       110.20      109.94      110.44     109.87  ...      107.68     106.45   \n",
       "\n",
       "   Close_lag_5  Open_lag_5  High_lag_5  Low_lag_5  Close_lag_6  Open_lag_6  \\\n",
       "0          0.0         0.0         0.0        0.0          0.0         0.0   \n",
       "1          0.0         0.0         0.0        0.0          0.0         0.0   \n",
       "2          0.0         0.0         0.0        0.0          0.0         0.0   \n",
       "3          0.0         0.0         0.0        0.0          0.0         0.0   \n",
       "4          0.0         0.0         0.0        0.0          0.0         0.0   \n",
       "\n",
       "   High_lag_6  Low_lag_6  \n",
       "0         0.0        0.0  \n",
       "1         0.0        0.0  \n",
       "2         0.0        0.0  \n",
       "3         0.0        0.0  \n",
       "4         0.0        0.0  \n",
       "\n",
       "[5 rows x 26 columns]"
      ]
     },
     "execution_count": 84,
     "metadata": {},
     "output_type": "execute_result"
    }
   ],
   "source": [
    "train.head()"
   ]
  },
  {
   "cell_type": "markdown",
   "metadata": {},
   "source": [
    "### Train and Forecast"
   ]
  },
  {
   "cell_type": "code",
   "execution_count": 85,
   "metadata": {
    "ExecuteTime": {
     "end_time": "2020-08-22T19:18:44.073378Z",
     "start_time": "2020-08-22T19:18:44.071711Z"
    }
   },
   "outputs": [],
   "source": [
    "lag_features = [col for col in historical_data.columns if \"lag\" in col]"
   ]
  },
  {
   "cell_type": "code",
   "execution_count": 86,
   "metadata": {
    "ExecuteTime": {
     "end_time": "2020-08-22T19:18:47.184719Z",
     "start_time": "2020-08-22T19:18:44.074146Z"
    }
   },
   "outputs": [
    {
     "name": "stderr",
     "output_type": "stream",
     "text": [
      "INFO:fbprophet:Disabling daily seasonality. Run prophet with daily_seasonality=True to override this.\n"
     ]
    },
    {
     "data": {
      "text/plain": [
       "<fbprophet.forecaster.Prophet at 0x1a23143310>"
      ]
     },
     "execution_count": 86,
     "metadata": {},
     "output_type": "execute_result"
    }
   ],
   "source": [
    "model = prophet.Prophet(yearly_seasonality=True, weekly_seasonality=True, seasonality_mode=\"additive\")\n",
    "for name in lag_features:\n",
    "    model.add_regressor(name)\n",
    "\n",
    "model.fit(df=train.rename(columns={\"Date\": \"ds\", \"Close\":\"y\"}))"
   ]
  },
  {
   "cell_type": "code",
   "execution_count": 87,
   "metadata": {
    "ExecuteTime": {
     "end_time": "2020-08-22T19:18:48.058259Z",
     "start_time": "2020-08-22T19:18:47.185795Z"
    }
   },
   "outputs": [
    {
     "data": {
      "text/plain": [
       "(30, 94)"
      ]
     },
     "execution_count": 87,
     "metadata": {},
     "output_type": "execute_result"
    }
   ],
   "source": [
    "forecast = model.predict(validation[[col for col in validation.columns if col != \"Close\"]].rename(columns={\"Date\": \"ds\"}))\n",
    "\n",
    "forecast.shape"
   ]
  },
  {
   "cell_type": "code",
   "execution_count": 88,
   "metadata": {
    "ExecuteTime": {
     "end_time": "2020-08-22T19:18:48.075028Z",
     "start_time": "2020-08-22T19:18:48.060708Z"
    }
   },
   "outputs": [
    {
     "data": {
      "text/html": [
       "<div>\n",
       "<style scoped>\n",
       "    .dataframe tbody tr th:only-of-type {\n",
       "        vertical-align: middle;\n",
       "    }\n",
       "\n",
       "    .dataframe tbody tr th {\n",
       "        vertical-align: top;\n",
       "    }\n",
       "\n",
       "    .dataframe thead th {\n",
       "        text-align: right;\n",
       "    }\n",
       "</style>\n",
       "<table border=\"1\" class=\"dataframe\">\n",
       "  <thead>\n",
       "    <tr style=\"text-align: right;\">\n",
       "      <th></th>\n",
       "      <th>ds</th>\n",
       "      <th>trend</th>\n",
       "      <th>yhat_lower</th>\n",
       "      <th>yhat_upper</th>\n",
       "      <th>trend_lower</th>\n",
       "      <th>trend_upper</th>\n",
       "      <th>Close_lag_1</th>\n",
       "      <th>Close_lag_1_lower</th>\n",
       "      <th>Close_lag_1_upper</th>\n",
       "      <th>Close_lag_2</th>\n",
       "      <th>...</th>\n",
       "      <th>weekly</th>\n",
       "      <th>weekly_lower</th>\n",
       "      <th>weekly_upper</th>\n",
       "      <th>yearly</th>\n",
       "      <th>yearly_lower</th>\n",
       "      <th>yearly_upper</th>\n",
       "      <th>multiplicative_terms</th>\n",
       "      <th>multiplicative_terms_lower</th>\n",
       "      <th>multiplicative_terms_upper</th>\n",
       "      <th>yhat</th>\n",
       "    </tr>\n",
       "  </thead>\n",
       "  <tbody>\n",
       "    <tr>\n",
       "      <th>0</th>\n",
       "      <td>2020-10-06</td>\n",
       "      <td>132.239348</td>\n",
       "      <td>156.377816</td>\n",
       "      <td>165.677969</td>\n",
       "      <td>132.239348</td>\n",
       "      <td>132.239348</td>\n",
       "      <td>12.302236</td>\n",
       "      <td>12.302236</td>\n",
       "      <td>12.302236</td>\n",
       "      <td>13.572367</td>\n",
       "      <td>...</td>\n",
       "      <td>2.203464</td>\n",
       "      <td>2.203464</td>\n",
       "      <td>2.203464</td>\n",
       "      <td>1.583835</td>\n",
       "      <td>1.583835</td>\n",
       "      <td>1.583835</td>\n",
       "      <td>0.0</td>\n",
       "      <td>0.0</td>\n",
       "      <td>0.0</td>\n",
       "      <td>160.895000</td>\n",
       "    </tr>\n",
       "    <tr>\n",
       "      <th>1</th>\n",
       "      <td>2020-10-07</td>\n",
       "      <td>132.289458</td>\n",
       "      <td>154.525072</td>\n",
       "      <td>163.527223</td>\n",
       "      <td>132.289458</td>\n",
       "      <td>132.289458</td>\n",
       "      <td>11.456737</td>\n",
       "      <td>11.456737</td>\n",
       "      <td>11.456737</td>\n",
       "      <td>14.467755</td>\n",
       "      <td>...</td>\n",
       "      <td>2.081288</td>\n",
       "      <td>2.081288</td>\n",
       "      <td>2.081288</td>\n",
       "      <td>1.778546</td>\n",
       "      <td>1.778546</td>\n",
       "      <td>1.778546</td>\n",
       "      <td>0.0</td>\n",
       "      <td>0.0</td>\n",
       "      <td>0.0</td>\n",
       "      <td>159.223510</td>\n",
       "    </tr>\n",
       "    <tr>\n",
       "      <th>2</th>\n",
       "      <td>2020-10-08</td>\n",
       "      <td>132.339567</td>\n",
       "      <td>153.893308</td>\n",
       "      <td>162.652361</td>\n",
       "      <td>132.339567</td>\n",
       "      <td>132.339567</td>\n",
       "      <td>11.546261</td>\n",
       "      <td>11.546261</td>\n",
       "      <td>11.546261</td>\n",
       "      <td>13.479340</td>\n",
       "      <td>...</td>\n",
       "      <td>1.510486</td>\n",
       "      <td>1.510486</td>\n",
       "      <td>1.510486</td>\n",
       "      <td>1.983534</td>\n",
       "      <td>1.983534</td>\n",
       "      <td>1.983534</td>\n",
       "      <td>0.0</td>\n",
       "      <td>0.0</td>\n",
       "      <td>0.0</td>\n",
       "      <td>158.280062</td>\n",
       "    </tr>\n",
       "    <tr>\n",
       "      <th>3</th>\n",
       "      <td>2020-10-09</td>\n",
       "      <td>132.389676</td>\n",
       "      <td>156.146845</td>\n",
       "      <td>165.360501</td>\n",
       "      <td>132.389676</td>\n",
       "      <td>132.389676</td>\n",
       "      <td>12.143083</td>\n",
       "      <td>12.143083</td>\n",
       "      <td>12.143083</td>\n",
       "      <td>13.583996</td>\n",
       "      <td>...</td>\n",
       "      <td>1.879826</td>\n",
       "      <td>1.879826</td>\n",
       "      <td>1.879826</td>\n",
       "      <td>2.194746</td>\n",
       "      <td>2.194746</td>\n",
       "      <td>2.194746</td>\n",
       "      <td>0.0</td>\n",
       "      <td>0.0</td>\n",
       "      <td>0.0</td>\n",
       "      <td>160.655693</td>\n",
       "    </tr>\n",
       "    <tr>\n",
       "      <th>4</th>\n",
       "      <td>2020-10-12</td>\n",
       "      <td>132.540005</td>\n",
       "      <td>158.223513</td>\n",
       "      <td>167.414159</td>\n",
       "      <td>132.540005</td>\n",
       "      <td>132.540005</td>\n",
       "      <td>12.481283</td>\n",
       "      <td>12.481283</td>\n",
       "      <td>12.481283</td>\n",
       "      <td>14.281700</td>\n",
       "      <td>...</td>\n",
       "      <td>1.847594</td>\n",
       "      <td>1.847594</td>\n",
       "      <td>1.847594</td>\n",
       "      <td>2.824144</td>\n",
       "      <td>2.824144</td>\n",
       "      <td>2.824144</td>\n",
       "      <td>0.0</td>\n",
       "      <td>0.0</td>\n",
       "      <td>0.0</td>\n",
       "      <td>162.981557</td>\n",
       "    </tr>\n",
       "    <tr>\n",
       "      <th>5</th>\n",
       "      <td>2020-10-13</td>\n",
       "      <td>132.590114</td>\n",
       "      <td>159.847848</td>\n",
       "      <td>169.098299</td>\n",
       "      <td>132.589565</td>\n",
       "      <td>132.590200</td>\n",
       "      <td>13.021739</td>\n",
       "      <td>13.021739</td>\n",
       "      <td>13.021739</td>\n",
       "      <td>14.677066</td>\n",
       "      <td>...</td>\n",
       "      <td>2.203464</td>\n",
       "      <td>2.203464</td>\n",
       "      <td>2.203464</td>\n",
       "      <td>3.018971</td>\n",
       "      <td>3.018971</td>\n",
       "      <td>3.018971</td>\n",
       "      <td>0.0</td>\n",
       "      <td>0.0</td>\n",
       "      <td>0.0</td>\n",
       "      <td>164.401713</td>\n",
       "    </tr>\n",
       "    <tr>\n",
       "      <th>6</th>\n",
       "      <td>2020-10-14</td>\n",
       "      <td>132.640223</td>\n",
       "      <td>158.835590</td>\n",
       "      <td>167.524270</td>\n",
       "      <td>132.637060</td>\n",
       "      <td>132.642985</td>\n",
       "      <td>12.302236</td>\n",
       "      <td>12.302236</td>\n",
       "      <td>12.302236</td>\n",
       "      <td>15.308877</td>\n",
       "      <td>...</td>\n",
       "      <td>2.081288</td>\n",
       "      <td>2.081288</td>\n",
       "      <td>2.081288</td>\n",
       "      <td>3.200008</td>\n",
       "      <td>3.200008</td>\n",
       "      <td>3.200008</td>\n",
       "      <td>0.0</td>\n",
       "      <td>0.0</td>\n",
       "      <td>0.0</td>\n",
       "      <td>163.247312</td>\n",
       "    </tr>\n",
       "    <tr>\n",
       "      <th>7</th>\n",
       "      <td>2020-10-15</td>\n",
       "      <td>132.690333</td>\n",
       "      <td>158.568922</td>\n",
       "      <td>167.577842</td>\n",
       "      <td>132.684032</td>\n",
       "      <td>132.697149</td>\n",
       "      <td>12.580753</td>\n",
       "      <td>12.580753</td>\n",
       "      <td>12.580753</td>\n",
       "      <td>14.467755</td>\n",
       "      <td>...</td>\n",
       "      <td>1.510486</td>\n",
       "      <td>1.510486</td>\n",
       "      <td>1.510486</td>\n",
       "      <td>3.363938</td>\n",
       "      <td>3.363938</td>\n",
       "      <td>3.363938</td>\n",
       "      <td>0.0</td>\n",
       "      <td>0.0</td>\n",
       "      <td>0.0</td>\n",
       "      <td>162.744946</td>\n",
       "    </tr>\n",
       "    <tr>\n",
       "      <th>8</th>\n",
       "      <td>2020-10-16</td>\n",
       "      <td>132.740442</td>\n",
       "      <td>156.776559</td>\n",
       "      <td>166.284774</td>\n",
       "      <td>132.729633</td>\n",
       "      <td>132.750538</td>\n",
       "      <td>11.373845</td>\n",
       "      <td>11.373845</td>\n",
       "      <td>11.373845</td>\n",
       "      <td>14.793351</td>\n",
       "      <td>...</td>\n",
       "      <td>1.879826</td>\n",
       "      <td>1.879826</td>\n",
       "      <td>1.879826</td>\n",
       "      <td>3.507857</td>\n",
       "      <td>3.507857</td>\n",
       "      <td>3.507857</td>\n",
       "      <td>0.0</td>\n",
       "      <td>0.0</td>\n",
       "      <td>0.0</td>\n",
       "      <td>161.669285</td>\n",
       "    </tr>\n",
       "    <tr>\n",
       "      <th>9</th>\n",
       "      <td>2020-10-19</td>\n",
       "      <td>132.890770</td>\n",
       "      <td>158.569635</td>\n",
       "      <td>167.816757</td>\n",
       "      <td>132.857771</td>\n",
       "      <td>132.916055</td>\n",
       "      <td>11.811515</td>\n",
       "      <td>11.811515</td>\n",
       "      <td>11.811515</td>\n",
       "      <td>13.382437</td>\n",
       "      <td>...</td>\n",
       "      <td>1.847594</td>\n",
       "      <td>1.847594</td>\n",
       "      <td>1.847594</td>\n",
       "      <td>3.797935</td>\n",
       "      <td>3.797935</td>\n",
       "      <td>3.797935</td>\n",
       "      <td>0.0</td>\n",
       "      <td>0.0</td>\n",
       "      <td>0.0</td>\n",
       "      <td>163.075269</td>\n",
       "    </tr>\n",
       "  </tbody>\n",
       "</table>\n",
       "<p>10 rows × 94 columns</p>\n",
       "</div>"
      ],
      "text/plain": [
       "          ds       trend  yhat_lower  yhat_upper  trend_lower  trend_upper  \\\n",
       "0 2020-10-06  132.239348  156.377816  165.677969   132.239348   132.239348   \n",
       "1 2020-10-07  132.289458  154.525072  163.527223   132.289458   132.289458   \n",
       "2 2020-10-08  132.339567  153.893308  162.652361   132.339567   132.339567   \n",
       "3 2020-10-09  132.389676  156.146845  165.360501   132.389676   132.389676   \n",
       "4 2020-10-12  132.540005  158.223513  167.414159   132.540005   132.540005   \n",
       "5 2020-10-13  132.590114  159.847848  169.098299   132.589565   132.590200   \n",
       "6 2020-10-14  132.640223  158.835590  167.524270   132.637060   132.642985   \n",
       "7 2020-10-15  132.690333  158.568922  167.577842   132.684032   132.697149   \n",
       "8 2020-10-16  132.740442  156.776559  166.284774   132.729633   132.750538   \n",
       "9 2020-10-19  132.890770  158.569635  167.816757   132.857771   132.916055   \n",
       "\n",
       "   Close_lag_1  Close_lag_1_lower  Close_lag_1_upper  Close_lag_2  ...  \\\n",
       "0    12.302236          12.302236          12.302236    13.572367  ...   \n",
       "1    11.456737          11.456737          11.456737    14.467755  ...   \n",
       "2    11.546261          11.546261          11.546261    13.479340  ...   \n",
       "3    12.143083          12.143083          12.143083    13.583996  ...   \n",
       "4    12.481283          12.481283          12.481283    14.281700  ...   \n",
       "5    13.021739          13.021739          13.021739    14.677066  ...   \n",
       "6    12.302236          12.302236          12.302236    15.308877  ...   \n",
       "7    12.580753          12.580753          12.580753    14.467755  ...   \n",
       "8    11.373845          11.373845          11.373845    14.793351  ...   \n",
       "9    11.811515          11.811515          11.811515    13.382437  ...   \n",
       "\n",
       "     weekly  weekly_lower  weekly_upper    yearly  yearly_lower  yearly_upper  \\\n",
       "0  2.203464      2.203464      2.203464  1.583835      1.583835      1.583835   \n",
       "1  2.081288      2.081288      2.081288  1.778546      1.778546      1.778546   \n",
       "2  1.510486      1.510486      1.510486  1.983534      1.983534      1.983534   \n",
       "3  1.879826      1.879826      1.879826  2.194746      2.194746      2.194746   \n",
       "4  1.847594      1.847594      1.847594  2.824144      2.824144      2.824144   \n",
       "5  2.203464      2.203464      2.203464  3.018971      3.018971      3.018971   \n",
       "6  2.081288      2.081288      2.081288  3.200008      3.200008      3.200008   \n",
       "7  1.510486      1.510486      1.510486  3.363938      3.363938      3.363938   \n",
       "8  1.879826      1.879826      1.879826  3.507857      3.507857      3.507857   \n",
       "9  1.847594      1.847594      1.847594  3.797935      3.797935      3.797935   \n",
       "\n",
       "   multiplicative_terms  multiplicative_terms_lower  \\\n",
       "0                   0.0                         0.0   \n",
       "1                   0.0                         0.0   \n",
       "2                   0.0                         0.0   \n",
       "3                   0.0                         0.0   \n",
       "4                   0.0                         0.0   \n",
       "5                   0.0                         0.0   \n",
       "6                   0.0                         0.0   \n",
       "7                   0.0                         0.0   \n",
       "8                   0.0                         0.0   \n",
       "9                   0.0                         0.0   \n",
       "\n",
       "   multiplicative_terms_upper        yhat  \n",
       "0                         0.0  160.895000  \n",
       "1                         0.0  159.223510  \n",
       "2                         0.0  158.280062  \n",
       "3                         0.0  160.655693  \n",
       "4                         0.0  162.981557  \n",
       "5                         0.0  164.401713  \n",
       "6                         0.0  163.247312  \n",
       "7                         0.0  162.744946  \n",
       "8                         0.0  161.669285  \n",
       "9                         0.0  163.075269  \n",
       "\n",
       "[10 rows x 94 columns]"
      ]
     },
     "execution_count": 88,
     "metadata": {},
     "output_type": "execute_result"
    }
   ],
   "source": [
    "forecast.head(10)"
   ]
  },
  {
   "cell_type": "markdown",
   "metadata": {},
   "source": [
    "### Visualize forecasts"
   ]
  },
  {
   "cell_type": "code",
   "execution_count": 89,
   "metadata": {
    "ExecuteTime": {
     "end_time": "2020-08-22T19:18:48.215672Z",
     "start_time": "2020-08-22T19:18:48.076633Z"
    }
   },
   "outputs": [
    {
     "data": {
      "image/png": "[encoded data removed]",
      "text/plain": [
       "<Figure size 720x432 with 1 Axes>"
      ]
     },
     "metadata": {
      "needs_background": "light"
     },
     "output_type": "display_data"
    }
   ],
   "source": [
    "# Plotting predictions and uncertainity interval with respect to actuals\n",
    "fig = plt.figure(figsize=(10, 6))\n",
    "\n",
    "# Plot actuals\n",
    "plt.plot(historical_data.Date.iloc[-365:], historical_data.Close.iloc[-365:])\n",
    "\n",
    "# Plot forecasts for the latest 365 days as validation period\n",
    "plt.plot(forecast.ds, forecast.yhat)\n",
    "\n",
    "# Plot uncertainity - lower and upper bound for the forecasts\n",
    "plt.fill_between(forecast.ds, forecast.yhat_lower, forecast.yhat_upper, alpha=0.2)\n",
    "\n",
    "plt.xlabel(\"Date\")\n",
    "plt.ylabel(\"Predicted `Close` price of Stock\")\n",
    "plt.legend([\"Actual\", \"Forecast\", \"Forecast Uncertainity\"])\n",
    "plt.title(f\"{ticker}_Model_Forecast_Analysis\")\n",
    "plt.show()"
   ]
  },
  {
   "cell_type": "code",
   "execution_count": 90,
   "metadata": {
    "ExecuteTime": {
     "end_time": "2020-08-22T19:18:49.008773Z",
     "start_time": "2020-08-22T19:18:48.216537Z"
    }
   },
   "outputs": [
    {
     "data": {
      "image/png": "[encoded data removed]",
      "text/plain": [
       "<Figure size 648x864 with 4 Axes>"
      ]
     },
     "metadata": {},
     "output_type": "display_data"
    }
   ],
   "source": [
    "fig = model.plot_components(forecast)"
   ]
  },
  {
   "cell_type": "markdown",
   "metadata": {},
   "source": [
    "### Evaluate model performance"
   ]
  },
  {
   "cell_type": "code",
   "execution_count": 91,
   "metadata": {
    "ExecuteTime": {
     "end_time": "2020-08-22T19:18:49.038971Z",
     "start_time": "2020-08-22T19:18:49.010104Z"
    }
   },
   "outputs": [],
   "source": [
    "# General metrics\n",
    "from sklearn.metrics import mean_absolute_error\n",
    "\n",
    "# Mean absolute error metric\n",
    "def mae(y, yhat):\n",
    "    return mean_absolute_error(y, yhat)"
   ]
  },
  {
   "cell_type": "code",
   "execution_count": 65,
   "metadata": {
    "ExecuteTime": {
     "end_time": "2020-08-22T19:18:49.043119Z",
     "start_time": "2020-08-22T19:18:49.040045Z"
    }
   },
   "outputs": [
    {
     "data": {
      "text/plain": [
       "(Timestamp('2020-11-10 00:00:00'), Timestamp('2020-11-16 00:00:00'))"
      ]
     },
     "execution_count": 65,
     "metadata": {},
     "output_type": "execute_result"
    }
   ],
   "source": [
    "validation.Date.min(), validation.Date.max()"
   ]
  },
  {
   "cell_type": "code",
   "execution_count": 66,
   "metadata": {
    "ExecuteTime": {
     "end_time": "2020-08-22T19:18:49.051021Z",
     "start_time": "2020-08-22T19:18:49.043959Z"
    }
   },
   "outputs": [
    {
     "data": {
      "text/plain": [
       "(Timestamp('2020-11-10 00:00:00'), Timestamp('2020-11-16 00:00:00'))"
      ]
     },
     "execution_count": 66,
     "metadata": {},
     "output_type": "execute_result"
    }
   ],
   "source": [
    "forecast.ds.min(), forecast.ds.max()"
   ]
  },
  {
   "cell_type": "code",
   "execution_count": 67,
   "metadata": {
    "ExecuteTime": {
     "end_time": "2020-08-22T19:18:49.057554Z",
     "start_time": "2020-08-22T19:18:49.052358Z"
    }
   },
   "outputs": [
    {
     "data": {
      "text/plain": [
       "('Mean absolute error (Closing price of the stock) = ', 50.046193158787524)"
      ]
     },
     "execution_count": 67,
     "metadata": {},
     "output_type": "execute_result"
    }
   ],
   "source": [
    "\"Mean absolute error (Closing price of the stock) = \", mae(validation.Close, forecast.yhat)"
   ]
  },
  {
   "cell_type": "code",
   "execution_count": null,
   "metadata": {},
   "outputs": [],
   "source": []
  },
  {
   "cell_type": "code",
   "execution_count": null,
   "metadata": {},
   "outputs": [],
   "source": []
  }
 ],
 "metadata": {
  "kernelspec": {
   "display_name": "Python 3",
   "language": "python",
   "name": "python3"
  },
  "language_info": {
   "codemirror_mode": {
    "name": "ipython",
    "version": 3
   },
   "file_extension": ".py",
   "mimetype": "text/x-python",
   "name": "python",
   "nbconvert_exporter": "python",
   "pygments_lexer": "ipython3",
   "version": "3.7.7"
  },
  "toc": {
   "base_numbering": 1,
   "nav_menu": {},
   "number_sections": true,
   "sideBar": true,
   "skip_h1_title": false,
   "title_cell": "Table of Contents",
   "title_sidebar": "Contents",
   "toc_cell": false,
   "toc_position": {},
   "toc_section_display": true,
   "toc_window_display": false
  },
  "varInspector": {
   "cols": {
    "lenName": 16,
    "lenType": 16,
    "lenVar": 40
   },
   "kernels_config": {
    "python": {
     "delete_cmd_postfix": "",
     "delete_cmd_prefix": "del ",
     "library": "var_list.py",
     "varRefreshCmd": "print(var_dic_list())"
    },
    "r": {
     "delete_cmd_postfix": ") ",
     "delete_cmd_prefix": "rm(",
     "library": "var_list.r",
     "varRefreshCmd": "cat(var_dic_list()) "
    }
   },
   "types_to_exclude": [
    "module",
    "function",
    "builtin_function_or_method",
    "instance",
    "_Feature"
   ],
   "window_display": false
  }
 },
 "nbformat": 4,
 "nbformat_minor": 4
}
